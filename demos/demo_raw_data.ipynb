{
 "cells": [
  {
   "cell_type": "markdown",
   "metadata": {},
   "source": [
    "### NivLink Demo: Multidimensional Decision-Making Task\n",
    "\n",
    "This demo uses data from a multidimensional decision-making paradigm similar to the one described in: \n",
    "\n",
    "> Leong, Y. C., Radulescu, A., Daniel, R., Dewoskin, V., Niv, Y. (2017). Dynamic Interaction between Reinforcement Learning and Attention in Multidimensional Environments. _Neuron_, 93(2), 451–463. http://doi.org/10.1016/j.neuron.2016.12.040\n",
    "\n",
    "On every trial of the task, participants choose between three column stimuli which vary along three dimensions: faces, houses and tools. Upon choosing a column, they either receive a reward or not, presented as a green or red rectangle around the chosen column. After a variable delay, the features in each column reshuffle along each dimension, and the next trial begins.  "
   ]
  },
  {
   "cell_type": "code",
   "execution_count": 1,
   "metadata": {
    "collapsed": true
   },
   "outputs": [],
   "source": [
    "import numpy as np\n",
    "import matplotlib.pyplot as plt\n",
    "import seaborn as sns\n",
    "import scipy.io as io\n",
    "import pandas as pd\n",
    "import matplotlib.pyplot as plt\n",
    "from pandas import DataFrame, read_csv\n",
    "from nivlink import ScreenInfo\n",
    "from nivlink import epoching_fht, align_to_aoi, compute_fixations\n",
    "\n",
    "sns.set_style('white')\n",
    "sns.set_context('notebook', font_scale=1.5)\n",
    "%matplotlib inline"
   ]
  },
  {
   "cell_type": "markdown",
   "metadata": {},
   "source": [
    "#### Load eye-tracking data.\n",
    "\n",
    "Refer to [DataViewer documentation](https://github.com/nivlab/NivLink/blob/master/docs/DataViewer.Md) for details on how to generate raw text files for your experiment. \n"
   ]
  },
  {
   "cell_type": "code",
   "execution_count": 2,
   "metadata": {
    "collapsed": true
   },
   "outputs": [],
   "source": [
    "## Load single subject data from text file.\n",
    "et_data_path = 'sample_eyetrack_data.txt'\n",
    "raw_data = pd.read_table(et_data_path);\n",
    "\n",
    "## Filter out columns of interest, convert to array and replace '.' with NaNs.\n",
    "raw_data_lean = raw_data.filter(['SAMPLE_MESSAGE','RIGHT_GAZE_X','RIGHT_GAZE_Y'], axis=1)\n",
    "raw_data_lean = raw_data_lean.replace('.',np.nan)\n",
    "raw_data_array = raw_data_lean.values"
   ]
  },
  {
   "cell_type": "markdown",
   "metadata": {},
   "source": [
    "#### Load behavioral data.\n",
    "\n",
    "Here, we're loading the corresponding RTs for each trial."
   ]
  },
  {
   "cell_type": "code",
   "execution_count": 3,
   "metadata": {},
   "outputs": [
    {
     "data": {
      "text/html": [
       "<div>\n",
       "<style scoped>\n",
       "    .dataframe tbody tr th:only-of-type {\n",
       "        vertical-align: middle;\n",
       "    }\n",
       "\n",
       "    .dataframe tbody tr th {\n",
       "        vertical-align: top;\n",
       "    }\n",
       "\n",
       "    .dataframe thead th {\n",
       "        text-align: right;\n",
       "    }\n",
       "</style>\n",
       "<table border=\"1\" class=\"dataframe\">\n",
       "  <thead>\n",
       "    <tr style=\"text-align: right;\">\n",
       "      <th></th>\n",
       "      <th>Trial</th>\n",
       "      <th>RT</th>\n",
       "    </tr>\n",
       "  </thead>\n",
       "  <tbody>\n",
       "    <tr>\n",
       "      <th>1</th>\n",
       "      <td>1</td>\n",
       "      <td>NaN</td>\n",
       "    </tr>\n",
       "    <tr>\n",
       "      <th>2</th>\n",
       "      <td>2</td>\n",
       "      <td>0.84760</td>\n",
       "    </tr>\n",
       "    <tr>\n",
       "      <th>3</th>\n",
       "      <td>3</td>\n",
       "      <td>0.86708</td>\n",
       "    </tr>\n",
       "    <tr>\n",
       "      <th>4</th>\n",
       "      <td>4</td>\n",
       "      <td>1.25670</td>\n",
       "    </tr>\n",
       "    <tr>\n",
       "      <th>5</th>\n",
       "      <td>5</td>\n",
       "      <td>1.00550</td>\n",
       "    </tr>\n",
       "  </tbody>\n",
       "</table>\n",
       "</div>"
      ],
      "text/plain": [
       "   Trial       RT\n",
       "1      1      NaN\n",
       "2      2  0.84760\n",
       "3      3  0.86708\n",
       "4      4  1.25670\n",
       "5      5  1.00550"
      ]
     },
     "execution_count": 3,
     "metadata": {},
     "output_type": "execute_result"
    }
   ],
   "source": [
    "behavior = read_csv('sample_behav_data.csv',index_col=0)\n",
    "behavior.head(5)"
   ]
  },
  {
   "cell_type": "markdown",
   "metadata": {},
   "source": [
    "#### Load pre-generated events file.\n",
    "\n",
    "The events file is a 3-column `.mat` file with line per trial which defines:  \n",
    "\n",
    "- The run number (here, \"run\" refers to a continuous chunk of time during which the eye-tracker was recording) \n",
    "- The trial onset relative to when the eye-tracker started recording on this run\n",
    "- The trial duration"
   ]
  },
  {
   "cell_type": "code",
   "execution_count": 4,
   "metadata": {
    "collapsed": true
   },
   "outputs": [],
   "source": [
    "events_file_path = 'sample_events.mat'\n",
    "events_mat = io.loadmat(events_file_path)\n",
    "events = np.array(events_mat[\"events_array\"])"
   ]
  },
  {
   "cell_type": "markdown",
   "metadata": {},
   "source": [
    "#### Load pre-generated feature map file.\n",
    "\n",
    "The feature map file is a n_trial by n_aoi with one line per trial which defines the task feature corresponding to each Area of Interest (AoI). "
   ]
  },
  {
   "cell_type": "code",
   "execution_count": 5,
   "metadata": {
    "collapsed": true
   },
   "outputs": [],
   "source": [
    "featmap_file_path = 'sample_featmap.mat'\n",
    "featmap_mat = io.loadmat(featmap_file_path)\n",
    "featmap = np.array(featmap_mat[\"features_aoi_map\"])"
   ]
  },
  {
   "cell_type": "markdown",
   "metadata": {},
   "source": [
    "#### Define screen parameters."
   ]
  },
  {
   "cell_type": "code",
   "execution_count": 6,
   "metadata": {
    "scrolled": true
   },
   "outputs": [
    {
     "data": {
      "image/png": "[encoded data removed]",
      "text/plain": [
       "<Figure size 576x432 with 2 Axes>"
      ]
     },
     "metadata": {},
     "output_type": "display_data"
    }
   ],
   "source": [
    "## Define metadata.\n",
    "xdim, ydim, sfreq = 1600, 1200, 500\n",
    "\n",
    "## Initialize ScreenInfo object.\n",
    "info = ScreenInfo(xdim, ydim, sfreq, )\n",
    "\n",
    "## Define and add areas of interest.\n",
    "n_aois = 9\n",
    "aois = np.empty((n_aois,2,2))\n",
    "\n",
    "# Left column\n",
    "aois[0] = np.matrix([[425, 325], [575, 475]])\n",
    "aois[1] = np.matrix([[425, 525], [575, 675]])\n",
    "aois[2] = np.matrix([[425, 725], [575, 875]])\n",
    "\n",
    "# Middle column\n",
    "aois[3] = np.matrix([[725, 325], [875, 475]])\n",
    "aois[4] = np.matrix([[725, 525], [875, 675]])\n",
    "aois[5] = np.matrix([[725, 725], [875, 875]])\n",
    "\n",
    "# Right column\n",
    "aois[6] = np.matrix([[1025, 325], [1175, 475]])\n",
    "aois[7] = np.matrix([[1025, 525], [1175, 675]])\n",
    "aois[8] = np.matrix([[1025, 725], [1175, 875]])\n",
    "\n",
    "for a in range(0, n_aois):\n",
    "    info.add_rectangle_aoi(aois[a,0,0], aois[a,1,0], aois[a,0,1], aois[a,1,1])\n",
    "        \n",
    "## Visually inspect AoIs. \n",
    "fig, ax = info.plot_aoi(1,6,False,)"
   ]
  },
  {
   "cell_type": "markdown",
   "metadata": {
    "collapsed": true
   },
   "source": [
    "#### Preprocess."
   ]
  },
  {
   "cell_type": "code",
   "execution_count": 7,
   "metadata": {},
   "outputs": [
    {
     "name": "stdout",
     "output_type": "stream",
     "text": [
      "[[['699.00' '564.70']\n",
      "  ['698.90' '564.80']\n",
      "  ['699.00' '564.70']\n",
      "  ...\n",
      "  ['855.20' '586.50']\n",
      "  ['855.20' '586.50']\n",
      "  ['855.10' '586.80']]\n",
      "\n",
      " [['787.60' '582.80']\n",
      "  ['788.00' '582.70']\n",
      "  ['788.20' '582.90']\n",
      "  ...\n",
      "  ['803.60' '430.70']\n",
      "  ['803.60' '430.80']\n",
      "  ['803.50' '431.00']]\n",
      "\n",
      " [['797.00' '622.40']\n",
      "  ['797.50' '622.70']\n",
      "  ['797.60' '622.60']\n",
      "  ...\n",
      "  ['532.40' '562.70']\n",
      "  ['531.80' '562.30']\n",
      "  ['530.70' '562.40']]\n",
      "\n",
      " ...\n",
      "\n",
      " [['804.40' '635.10']\n",
      "  ['804.80' '634.90']\n",
      "  ['804.90' '633.70']\n",
      "  ...\n",
      "  [nan nan]\n",
      "  [nan nan]\n",
      "  [nan nan]]\n",
      "\n",
      " [['780.10' '649.20']\n",
      "  ['779.90' '649.10']\n",
      "  ['780.30' '649.20']\n",
      "  ...\n",
      "  ['1306.70' '617.10']\n",
      "  ['1307.80' '614.80']\n",
      "  ['1309.30' '612.50']]\n",
      "\n",
      " [['806.10' '644.00']\n",
      "  ['805.90' '643.90']\n",
      "  ['805.40' '643.80']\n",
      "  ...\n",
      "  [nan nan]\n",
      "  [nan nan]\n",
      "  [nan nan]]]\n"
     ]
    },
    {
     "data": {
      "text/html": [
       "<div>\n",
       "<style scoped>\n",
       "    .dataframe tbody tr th:only-of-type {\n",
       "        vertical-align: middle;\n",
       "    }\n",
       "\n",
       "    .dataframe tbody tr th {\n",
       "        vertical-align: top;\n",
       "    }\n",
       "\n",
       "    .dataframe thead th {\n",
       "        text-align: right;\n",
       "    }\n",
       "</style>\n",
       "<table border=\"1\" class=\"dataframe\">\n",
       "  <thead>\n",
       "    <tr style=\"text-align: right;\">\n",
       "      <th></th>\n",
       "      <th>Trial</th>\n",
       "      <th>AoI</th>\n",
       "      <th>Onset</th>\n",
       "      <th>Offset</th>\n",
       "      <th>Duration</th>\n",
       "      <th>Screen</th>\n",
       "      <th>Feature</th>\n",
       "    </tr>\n",
       "  </thead>\n",
       "  <tbody>\n",
       "    <tr>\n",
       "      <th>0</th>\n",
       "      <td>1.0</td>\n",
       "      <td>1.0</td>\n",
       "      <td>0.408</td>\n",
       "      <td>0.610</td>\n",
       "      <td>0.202</td>\n",
       "      <td>1</td>\n",
       "      <td>8</td>\n",
       "    </tr>\n",
       "    <tr>\n",
       "      <th>1</th>\n",
       "      <td>1.0</td>\n",
       "      <td>5.0</td>\n",
       "      <td>0.824</td>\n",
       "      <td>1.192</td>\n",
       "      <td>0.368</td>\n",
       "      <td>1</td>\n",
       "      <td>4</td>\n",
       "    </tr>\n",
       "    <tr>\n",
       "      <th>2</th>\n",
       "      <td>1.0</td>\n",
       "      <td>8.0</td>\n",
       "      <td>1.208</td>\n",
       "      <td>1.438</td>\n",
       "      <td>0.230</td>\n",
       "      <td>1</td>\n",
       "      <td>5</td>\n",
       "    </tr>\n",
       "    <tr>\n",
       "      <th>3</th>\n",
       "      <td>1.0</td>\n",
       "      <td>8.0</td>\n",
       "      <td>1.624</td>\n",
       "      <td>1.954</td>\n",
       "      <td>0.330</td>\n",
       "      <td>1</td>\n",
       "      <td>5</td>\n",
       "    </tr>\n",
       "    <tr>\n",
       "      <th>4</th>\n",
       "      <td>1.0</td>\n",
       "      <td>5.0</td>\n",
       "      <td>1.970</td>\n",
       "      <td>4.000</td>\n",
       "      <td>2.030</td>\n",
       "      <td>1</td>\n",
       "      <td>4</td>\n",
       "    </tr>\n",
       "    <tr>\n",
       "      <th>5</th>\n",
       "      <td>2.0</td>\n",
       "      <td>5.0</td>\n",
       "      <td>0.000</td>\n",
       "      <td>0.648</td>\n",
       "      <td>0.648</td>\n",
       "      <td>1</td>\n",
       "      <td>6</td>\n",
       "    </tr>\n",
       "    <tr>\n",
       "      <th>6</th>\n",
       "      <td>2.0</td>\n",
       "      <td>2.0</td>\n",
       "      <td>0.662</td>\n",
       "      <td>0.854</td>\n",
       "      <td>0.192</td>\n",
       "      <td>1</td>\n",
       "      <td>5</td>\n",
       "    </tr>\n",
       "    <tr>\n",
       "      <th>7</th>\n",
       "      <td>2.0</td>\n",
       "      <td>5.0</td>\n",
       "      <td>0.868</td>\n",
       "      <td>0.868</td>\n",
       "      <td>0.000</td>\n",
       "      <td>1</td>\n",
       "      <td>6</td>\n",
       "    </tr>\n",
       "    <tr>\n",
       "      <th>8</th>\n",
       "      <td>2.0</td>\n",
       "      <td>5.0</td>\n",
       "      <td>1.246</td>\n",
       "      <td>2.616</td>\n",
       "      <td>1.370</td>\n",
       "      <td>1</td>\n",
       "      <td>6</td>\n",
       "    </tr>\n",
       "    <tr>\n",
       "      <th>9</th>\n",
       "      <td>2.0</td>\n",
       "      <td>8.0</td>\n",
       "      <td>2.632</td>\n",
       "      <td>2.972</td>\n",
       "      <td>0.340</td>\n",
       "      <td>1</td>\n",
       "      <td>4</td>\n",
       "    </tr>\n",
       "  </tbody>\n",
       "</table>\n",
       "</div>"
      ],
      "text/plain": [
       "   Trial  AoI  Onset  Offset  Duration  Screen  Feature\n",
       "0    1.0  1.0  0.408   0.610     0.202       1        8\n",
       "1    1.0  5.0  0.824   1.192     0.368       1        4\n",
       "2    1.0  8.0  1.208   1.438     0.230       1        5\n",
       "3    1.0  8.0  1.624   1.954     0.330       1        5\n",
       "4    1.0  5.0  1.970   4.000     2.030       1        4\n",
       "5    2.0  5.0  0.000   0.648     0.648       1        6\n",
       "6    2.0  2.0  0.662   0.854     0.192       1        5\n",
       "7    2.0  5.0  0.868   0.868     0.000       1        6\n",
       "8    2.0  5.0  1.246   2.616     1.370       1        6\n",
       "9    2.0  8.0  2.632   2.972     0.340       1        4"
      ]
     },
     "execution_count": 7,
     "metadata": {},
     "output_type": "execute_result"
    }
   ],
   "source": [
    "## Run epoching. \n",
    "epochs = epoching_fht(raw_data_array, info, events)\n",
    "\n",
    "## Define screenidx array.\n",
    "n_trials = max(behavior.Trial) \n",
    "# In this demo, AoIs are identically distributed across trials\n",
    "screenidx = np.ones((n_trials,1)) \n",
    "\n",
    "## Align to AoI. \n",
    "aligned = align_to_aoi(epochs, info, screenidx)\n",
    "\n",
    "## Compute fixations. \n",
    "fixations = compute_fixations(aligned, info)\n",
    "\n",
    "## Add screen column.\n",
    "fixations['Screen'] = screenidx[fixations.Trial.values.astype(int) - 1].astype(int)\n",
    "\n",
    "## Map to task features. \n",
    "fixations['Feature'] = featmap[fixations.Trial.values.astype(int) - 1,fixations.AoI.values.astype(int) - 1]\n",
    "fixations.head(10)"
   ]
  },
  {
   "cell_type": "markdown",
   "metadata": {},
   "source": [
    "#### Run some basic QA checks."
   ]
  },
  {
   "cell_type": "code",
   "execution_count": 8,
   "metadata": {},
   "outputs": [
    {
     "data": {
      "image/png": "[encoded data removed]",
      "text/plain": [
       "<Figure size 576x432 with 1 Axes>"
      ]
     },
     "metadata": {},
     "output_type": "display_data"
    }
   ],
   "source": [
    "fixations.hist('Trial',bins=120,figsize=[8,6])\n",
    "plt.xlabel('Trial',fontsize=15)\n",
    "plt.ylabel('Count',fontsize=15)\n",
    "plt.title('Distribution of fixations per trial',fontsize=20);"
   ]
  },
  {
   "cell_type": "code",
   "execution_count": 9,
   "metadata": {},
   "outputs": [
    {
     "data": {
      "image/png": "[encoded data removed]",
      "text/plain": [
       "<Figure size 576x432 with 1 Axes>"
      ]
     },
     "metadata": {},
     "output_type": "display_data"
    }
   ],
   "source": [
    "fixations.hist('AoI',bins=9,figsize=[8,6])\n",
    "plt.xlabel('AoI',fontsize=15)\n",
    "plt.ylabel('Count',fontsize=15)\n",
    "plt.title('Distribution of AoIs',fontsize=20);"
   ]
  },
  {
   "cell_type": "code",
   "execution_count": 10,
   "metadata": {},
   "outputs": [
    {
     "data": {
      "image/png": "[encoded data removed]",
      "text/plain": [
       "<Figure size 576x432 with 1 Axes>"
      ]
     },
     "metadata": {},
     "output_type": "display_data"
    }
   ],
   "source": [
    "fixations.hist('Feature',bins=9,figsize=[8,6])\n",
    "plt.xlabel('Feature',fontsize=15)\n",
    "plt.ylabel('Count',fontsize=15)\n",
    "plt.title('Distribution of Features',fontsize=20);"
   ]
  },
  {
   "cell_type": "markdown",
   "metadata": {},
   "source": [
    "#### Visualize mapping for a single trial."
   ]
  },
  {
   "cell_type": "code",
   "execution_count": 11,
   "metadata": {},
   "outputs": [
    {
     "data": {
      "image/png": "[encoded data removed]",
      "text/plain": [
       "<Figure size 432x288 with 1 Axes>"
      ]
     },
     "metadata": {},
     "output_type": "display_data"
    }
   ],
   "source": [
    "## Select trial.\n",
    "t = 1\n",
    "fixations_this_trial = fixations.loc[fixations['Trial'] == t]\n",
    "[n_events, dummy] = fixations_this_trial.shape\n",
    "\n",
    "## Plot trajectory in feature space.\n",
    "plt.plot(np.arange(1, n_events+1, step=1), fixations_this_trial.Feature.values, '-o',markersize=12)\n",
    "plt.xlabel('Time within trial',fontsize=15)\n",
    "plt.ylabel('Feature',fontsize=15)\n",
    "plt.ylim((0,10))\n",
    "plt.xticks(np.arange(1, n_events+1, step=1))\n",
    "plt.yticks(np.arange(1, 10, step=1))\n",
    "plt.title('Fixation trajectory in feature space',fontsize=20);"
   ]
  },
  {
   "cell_type": "markdown",
   "metadata": {
    "collapsed": true
   },
   "source": [
    "#### Pandas Example 1: Merge fixations and behavior dataframes along trial number. "
   ]
  },
  {
   "cell_type": "code",
   "execution_count": 12,
   "metadata": {},
   "outputs": [
    {
     "data": {
      "text/html": [
       "<div>\n",
       "<style scoped>\n",
       "    .dataframe tbody tr th:only-of-type {\n",
       "        vertical-align: middle;\n",
       "    }\n",
       "\n",
       "    .dataframe tbody tr th {\n",
       "        vertical-align: top;\n",
       "    }\n",
       "\n",
       "    .dataframe thead th {\n",
       "        text-align: right;\n",
       "    }\n",
       "</style>\n",
       "<table border=\"1\" class=\"dataframe\">\n",
       "  <thead>\n",
       "    <tr style=\"text-align: right;\">\n",
       "      <th></th>\n",
       "      <th>Trial</th>\n",
       "      <th>AoI</th>\n",
       "      <th>Onset</th>\n",
       "      <th>Offset</th>\n",
       "      <th>Duration</th>\n",
       "      <th>Feature</th>\n",
       "      <th>RT</th>\n",
       "    </tr>\n",
       "  </thead>\n",
       "  <tbody>\n",
       "    <tr>\n",
       "      <th>0</th>\n",
       "      <td>1.0</td>\n",
       "      <td>1.0</td>\n",
       "      <td>0.408</td>\n",
       "      <td>0.610</td>\n",
       "      <td>0.202</td>\n",
       "      <td>8</td>\n",
       "      <td>NaN</td>\n",
       "    </tr>\n",
       "    <tr>\n",
       "      <th>1</th>\n",
       "      <td>1.0</td>\n",
       "      <td>5.0</td>\n",
       "      <td>0.824</td>\n",
       "      <td>1.192</td>\n",
       "      <td>0.368</td>\n",
       "      <td>4</td>\n",
       "      <td>NaN</td>\n",
       "    </tr>\n",
       "    <tr>\n",
       "      <th>2</th>\n",
       "      <td>1.0</td>\n",
       "      <td>8.0</td>\n",
       "      <td>1.208</td>\n",
       "      <td>1.438</td>\n",
       "      <td>0.230</td>\n",
       "      <td>5</td>\n",
       "      <td>NaN</td>\n",
       "    </tr>\n",
       "    <tr>\n",
       "      <th>3</th>\n",
       "      <td>1.0</td>\n",
       "      <td>8.0</td>\n",
       "      <td>1.624</td>\n",
       "      <td>1.954</td>\n",
       "      <td>0.330</td>\n",
       "      <td>5</td>\n",
       "      <td>NaN</td>\n",
       "    </tr>\n",
       "    <tr>\n",
       "      <th>4</th>\n",
       "      <td>1.0</td>\n",
       "      <td>5.0</td>\n",
       "      <td>1.970</td>\n",
       "      <td>4.000</td>\n",
       "      <td>2.030</td>\n",
       "      <td>4</td>\n",
       "      <td>NaN</td>\n",
       "    </tr>\n",
       "    <tr>\n",
       "      <th>5</th>\n",
       "      <td>2.0</td>\n",
       "      <td>5.0</td>\n",
       "      <td>0.000</td>\n",
       "      <td>0.648</td>\n",
       "      <td>0.648</td>\n",
       "      <td>6</td>\n",
       "      <td>0.8476</td>\n",
       "    </tr>\n",
       "    <tr>\n",
       "      <th>6</th>\n",
       "      <td>2.0</td>\n",
       "      <td>2.0</td>\n",
       "      <td>0.662</td>\n",
       "      <td>0.854</td>\n",
       "      <td>0.192</td>\n",
       "      <td>5</td>\n",
       "      <td>0.8476</td>\n",
       "    </tr>\n",
       "    <tr>\n",
       "      <th>7</th>\n",
       "      <td>2.0</td>\n",
       "      <td>5.0</td>\n",
       "      <td>0.868</td>\n",
       "      <td>0.868</td>\n",
       "      <td>0.000</td>\n",
       "      <td>6</td>\n",
       "      <td>0.8476</td>\n",
       "    </tr>\n",
       "    <tr>\n",
       "      <th>8</th>\n",
       "      <td>2.0</td>\n",
       "      <td>5.0</td>\n",
       "      <td>1.246</td>\n",
       "      <td>2.616</td>\n",
       "      <td>1.370</td>\n",
       "      <td>6</td>\n",
       "      <td>0.8476</td>\n",
       "    </tr>\n",
       "    <tr>\n",
       "      <th>9</th>\n",
       "      <td>2.0</td>\n",
       "      <td>8.0</td>\n",
       "      <td>2.632</td>\n",
       "      <td>2.972</td>\n",
       "      <td>0.340</td>\n",
       "      <td>4</td>\n",
       "      <td>0.8476</td>\n",
       "    </tr>\n",
       "  </tbody>\n",
       "</table>\n",
       "</div>"
      ],
      "text/plain": [
       "   Trial  AoI  Onset  Offset  Duration  Feature      RT\n",
       "0    1.0  1.0  0.408   0.610     0.202        8     NaN\n",
       "1    1.0  5.0  0.824   1.192     0.368        4     NaN\n",
       "2    1.0  8.0  1.208   1.438     0.230        5     NaN\n",
       "3    1.0  8.0  1.624   1.954     0.330        5     NaN\n",
       "4    1.0  5.0  1.970   4.000     2.030        4     NaN\n",
       "5    2.0  5.0  0.000   0.648     0.648        6  0.8476\n",
       "6    2.0  2.0  0.662   0.854     0.192        5  0.8476\n",
       "7    2.0  5.0  0.868   0.868     0.000        6  0.8476\n",
       "8    2.0  5.0  1.246   2.616     1.370        6  0.8476\n",
       "9    2.0  8.0  2.632   2.972     0.340        4  0.8476"
      ]
     },
     "execution_count": 12,
     "metadata": {},
     "output_type": "execute_result"
    }
   ],
   "source": [
    "data = pd.merge(fixations, behavior, on ='Trial')\n",
    "data.head(10)"
   ]
  },
  {
   "cell_type": "markdown",
   "metadata": {},
   "source": [
    "#### Pandas Example 2: Remove fixations lasting less than 100ms."
   ]
  },
  {
   "cell_type": "code",
   "execution_count": 13,
   "metadata": {
    "collapsed": true
   },
   "outputs": [],
   "source": [
    "data = data[data.Duration >= 0.10].reset_index(drop=True)"
   ]
  },
  {
   "cell_type": "markdown",
   "metadata": {},
   "source": [
    "#### Pandas Example 3: Remove fixations after response."
   ]
  },
  {
   "cell_type": "code",
   "execution_count": 18,
   "metadata": {},
   "outputs": [
    {
     "data": {
      "text/html": [
       "<div>\n",
       "<style scoped>\n",
       "    .dataframe tbody tr th:only-of-type {\n",
       "        vertical-align: middle;\n",
       "    }\n",
       "\n",
       "    .dataframe tbody tr th {\n",
       "        vertical-align: top;\n",
       "    }\n",
       "\n",
       "    .dataframe thead th {\n",
       "        text-align: right;\n",
       "    }\n",
       "</style>\n",
       "<table border=\"1\" class=\"dataframe\">\n",
       "  <thead>\n",
       "    <tr style=\"text-align: right;\">\n",
       "      <th></th>\n",
       "      <th>Trial</th>\n",
       "      <th>AoI</th>\n",
       "      <th>Onset</th>\n",
       "      <th>Offset</th>\n",
       "      <th>Duration</th>\n",
       "      <th>Feature</th>\n",
       "      <th>RT</th>\n",
       "    </tr>\n",
       "  </thead>\n",
       "  <tbody>\n",
       "    <tr>\n",
       "      <th>5</th>\n",
       "      <td>2.0</td>\n",
       "      <td>5.0</td>\n",
       "      <td>-0.84760</td>\n",
       "      <td>-0.19960</td>\n",
       "      <td>0.648</td>\n",
       "      <td>6</td>\n",
       "      <td>0.84760</td>\n",
       "    </tr>\n",
       "    <tr>\n",
       "      <th>6</th>\n",
       "      <td>2.0</td>\n",
       "      <td>2.0</td>\n",
       "      <td>-0.18560</td>\n",
       "      <td>0.00640</td>\n",
       "      <td>0.192</td>\n",
       "      <td>5</td>\n",
       "      <td>0.84760</td>\n",
       "    </tr>\n",
       "    <tr>\n",
       "      <th>13</th>\n",
       "      <td>3.0</td>\n",
       "      <td>5.0</td>\n",
       "      <td>-0.86708</td>\n",
       "      <td>-0.50508</td>\n",
       "      <td>0.362</td>\n",
       "      <td>6</td>\n",
       "      <td>0.86708</td>\n",
       "    </tr>\n",
       "    <tr>\n",
       "      <th>14</th>\n",
       "      <td>3.0</td>\n",
       "      <td>2.0</td>\n",
       "      <td>-0.48508</td>\n",
       "      <td>0.30492</td>\n",
       "      <td>0.790</td>\n",
       "      <td>5</td>\n",
       "      <td>0.86708</td>\n",
       "    </tr>\n",
       "    <tr>\n",
       "      <th>20</th>\n",
       "      <td>4.0</td>\n",
       "      <td>5.0</td>\n",
       "      <td>-1.25670</td>\n",
       "      <td>-0.82870</td>\n",
       "      <td>0.428</td>\n",
       "      <td>6</td>\n",
       "      <td>1.25670</td>\n",
       "    </tr>\n",
       "    <tr>\n",
       "      <th>21</th>\n",
       "      <td>4.0</td>\n",
       "      <td>2.0</td>\n",
       "      <td>-0.80870</td>\n",
       "      <td>-0.49470</td>\n",
       "      <td>0.314</td>\n",
       "      <td>5</td>\n",
       "      <td>1.25670</td>\n",
       "    </tr>\n",
       "    <tr>\n",
       "      <th>22</th>\n",
       "      <td>4.0</td>\n",
       "      <td>5.0</td>\n",
       "      <td>-0.48070</td>\n",
       "      <td>-0.34870</td>\n",
       "      <td>0.132</td>\n",
       "      <td>6</td>\n",
       "      <td>1.25670</td>\n",
       "    </tr>\n",
       "    <tr>\n",
       "      <th>23</th>\n",
       "      <td>4.0</td>\n",
       "      <td>8.0</td>\n",
       "      <td>-0.33670</td>\n",
       "      <td>1.07130</td>\n",
       "      <td>1.408</td>\n",
       "      <td>4</td>\n",
       "      <td>1.25670</td>\n",
       "    </tr>\n",
       "    <tr>\n",
       "      <th>27</th>\n",
       "      <td>5.0</td>\n",
       "      <td>5.0</td>\n",
       "      <td>-1.00550</td>\n",
       "      <td>1.28050</td>\n",
       "      <td>2.286</td>\n",
       "      <td>6</td>\n",
       "      <td>1.00550</td>\n",
       "    </tr>\n",
       "    <tr>\n",
       "      <th>34</th>\n",
       "      <td>6.0</td>\n",
       "      <td>5.0</td>\n",
       "      <td>-0.92680</td>\n",
       "      <td>1.63320</td>\n",
       "      <td>2.560</td>\n",
       "      <td>4</td>\n",
       "      <td>0.92680</td>\n",
       "    </tr>\n",
       "  </tbody>\n",
       "</table>\n",
       "</div>"
      ],
      "text/plain": [
       "    Trial  AoI    Onset   Offset  Duration  Feature       RT\n",
       "5     2.0  5.0 -0.84760 -0.19960     0.648        6  0.84760\n",
       "6     2.0  2.0 -0.18560  0.00640     0.192        5  0.84760\n",
       "13    3.0  5.0 -0.86708 -0.50508     0.362        6  0.86708\n",
       "14    3.0  2.0 -0.48508  0.30492     0.790        5  0.86708\n",
       "20    4.0  5.0 -1.25670 -0.82870     0.428        6  1.25670\n",
       "21    4.0  2.0 -0.80870 -0.49470     0.314        5  1.25670\n",
       "22    4.0  5.0 -0.48070 -0.34870     0.132        6  1.25670\n",
       "23    4.0  8.0 -0.33670  1.07130     1.408        4  1.25670\n",
       "27    5.0  5.0 -1.00550  1.28050     2.286        6  1.00550\n",
       "34    6.0  5.0 -0.92680  1.63320     2.560        4  0.92680"
      ]
     },
     "execution_count": 18,
     "metadata": {},
     "output_type": "execute_result"
    }
   ],
   "source": [
    "## Drop missing responses, fast responses.\n",
    "data = data.dropna()\n",
    "data = data[data.RT > 0.2]\n",
    "\n",
    "## Realign fixations to response.\n",
    "data.Onset -= data.RT\n",
    "data.Offset -= data.RT\n",
    "\n",
    "## Remove fixations beginning after response.\n",
    "data = data[data.Onset < 0]\n",
    "data.head(10)"
   ]
  },
  {
   "cell_type": "code",
   "execution_count": null,
   "metadata": {
    "collapsed": true
   },
   "outputs": [],
   "source": []
  }
 ],
 "metadata": {
  "kernelspec": {
   "display_name": "Python 3",
   "language": "python",
   "name": "python3"
  },
  "language_info": {
   "codemirror_mode": {
    "name": "ipython",
    "version": 3
   },
   "file_extension": ".py",
   "mimetype": "text/x-python",
   "name": "python",
   "nbconvert_exporter": "python",
   "pygments_lexer": "ipython3",
   "version": "3.7.0"
  }
 },
 "nbformat": 4,
 "nbformat_minor": 2
}
